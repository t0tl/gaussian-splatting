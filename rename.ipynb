{
 "cells": [
  {
   "cell_type": "code",
   "execution_count": 6,
   "metadata": {},
   "outputs": [],
   "source": [
    "import os\n",
    "\n",
    "\n",
    "IMG_DIR = \"/workspace/data/kitchen/images\"\n",
    "\n",
    "# List all images in the directory\n",
    "img_files = os.listdir(IMG_DIR)"
   ]
  },
  {
   "cell_type": "code",
   "execution_count": 5,
   "metadata": {},
   "outputs": [
    {
     "name": "stdout",
     "output_type": "stream",
     "text": [
      "20240225_130700.jpg\n",
      "20240225_130703.jpg\n",
      "20240225_130705.jpg\n",
      "20240225_130712.jpg\n",
      "20240225_130713.jpg\n",
      "20240225_130715.jpg\n",
      "20240225_130717.jpg\n",
      "20240225_130727.jpg\n",
      "20240225_130729.jpg\n",
      "20240225_130731.jpg\n",
      "20240225_130737.jpg\n",
      "20240225_130745.jpg\n",
      "20240225_130747.jpg\n",
      "20240225_130751.jpg\n",
      "20240225_130800.jpg\n"
     ]
    }
   ],
   "source": [
    "for i, img in enumerate(img_files):\n",
    "    print(img)\n",
    "    os.rename(os.path.join(IMG_DIR, img), os.path.join(IMG_DIR, f\"{i:05d}.jpg\"))"
   ]
  }
 ],
 "metadata": {
  "kernelspec": {
   "display_name": "Python 3",
   "language": "python",
   "name": "python3"
  },
  "language_info": {
   "codemirror_mode": {
    "name": "ipython",
    "version": 3
   },
   "file_extension": ".py",
   "mimetype": "text/x-python",
   "name": "python",
   "nbconvert_exporter": "python",
   "pygments_lexer": "ipython3",
   "version": "3.10.12"
  }
 },
 "nbformat": 4,
 "nbformat_minor": 2
}
